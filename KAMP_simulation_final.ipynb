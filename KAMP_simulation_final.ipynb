{
 "cells": [
  {
   "cell_type": "code",
   "execution_count": 1,
   "id": "24b855de",
   "metadata": {},
   "outputs": [],
   "source": [
    "import pandas as pd\n",
    "import numpy  as np\n",
    "from imblearn.over_sampling import SMOTE\n",
    "\n",
    "from sklearn.preprocessing import LabelEncoder\n",
    "from sklearn.model_selection import train_test_split\n",
    "from sklearn.preprocessing import StandardScaler\n",
    "from sklearn.preprocessing import MinMaxScaler\n",
    "from sklearn.metrics import accuracy_score,f1_score, precision_score, recall_score\n",
    "from sklearn.model_selection import cross_val_score\n",
    "from sklearn.model_selection import cross_val_predict\n",
    "from sklearn.metrics import confusion_matrix\n",
    "\n",
    "\n",
    "from sklearn.linear_model import LogisticRegression"
   ]
  },
  {
   "cell_type": "code",
   "execution_count": 3,
   "id": "65553a0e",
   "metadata": {},
   "outputs": [],
   "source": [
    "# 평가함수\n",
    "def get_clf_eval(y_test, pred):\n",
    "    confusion = confusion_matrix(y_test, pred)    # 오차행렬\n",
    "    accuracy = accuracy_score(y_test , pred)      # 정확도\n",
    "    precision = precision_score(y_test , pred)    # 정밀도\n",
    "    recall = recall_score(y_test , pred)          # 재현율\n",
    "    f1 = f1_score(y_test,pred)\n",
    "                    \n",
    "    print('오차 행렬')\n",
    "    print(confusion)\n",
    "    print('정확도: {:.4f}, 정밀도: {:.4f}, 재현율: {:.4f}, F1: {:.4f}'.format(accuracy, precision, recall, f1))"
   ]
  },
  {
   "cell_type": "code",
   "execution_count": 4,
   "id": "a16804f1",
   "metadata": {},
   "outputs": [],
   "source": [
    "def make_df_warning_area(df) :\n",
    "    \n",
    "    df_new = df.copy()\n",
    "    \n",
    "    # 경계수준 인덱스\n",
    "    w1_idx_list = df_new[(df_new['MELT_WEIGHT'] < 21000) & (df_new['MELT_TEMP'] < 600)].index  \n",
    "    \n",
    "    # 위험수준 인덱스\n",
    "    w2_idx_list = df_new[(df_new['MELT_WEIGHT'] > 15000) & (df_new['MELT_WEIGHT'] < 20000) & (df_new['MELT_TEMP'] < 480)].index\n",
    "    \n",
    "    # 데이터프레임['warning_area'] 초기화\n",
    "    df_new['warning_area'] = 0\n",
    "    \n",
    "    # 위험군 값 입력\n",
    "    df_new.loc[w1_idx_list, 'warning_area'] = 0.5\n",
    "    df_new.loc[w2_idx_list, 'warning_area'] = 2\n",
    "    \n",
    "    \n",
    "    return df_new"
   ]
  },
  {
   "cell_type": "code",
   "execution_count": 7,
   "id": "0e03a793",
   "metadata": {},
   "outputs": [],
   "source": [
    "df = pd.read_csv('data/melting_tank.csv')\n",
    "df['TAG'] = df['TAG'].apply(lambda x : 0 if x =='OK' else 1 )"
   ]
  },
  {
   "cell_type": "code",
   "execution_count": 8,
   "id": "5c6c6209",
   "metadata": {},
   "outputs": [],
   "source": [
    "df_std = df.drop(['STD_DT','NUM'], axis=1)"
   ]
  },
  {
   "cell_type": "code",
   "execution_count": 9,
   "id": "04c1f134",
   "metadata": {},
   "outputs": [],
   "source": [
    "df_added = make_df_warning_area(df_std)"
   ]
  },
  {
   "cell_type": "code",
   "execution_count": 10,
   "id": "b86dd2f6",
   "metadata": {},
   "outputs": [
    {
     "data": {
      "text/html": [
       "<div>\n",
       "<style scoped>\n",
       "    .dataframe tbody tr th:only-of-type {\n",
       "        vertical-align: middle;\n",
       "    }\n",
       "\n",
       "    .dataframe tbody tr th {\n",
       "        vertical-align: top;\n",
       "    }\n",
       "\n",
       "    .dataframe thead th {\n",
       "        text-align: right;\n",
       "    }\n",
       "</style>\n",
       "<table border=\"1\" class=\"dataframe\">\n",
       "  <thead>\n",
       "    <tr style=\"text-align: right;\">\n",
       "      <th></th>\n",
       "      <th>MELT_TEMP</th>\n",
       "      <th>MOTORSPEED</th>\n",
       "      <th>MELT_WEIGHT</th>\n",
       "      <th>INSP</th>\n",
       "      <th>TAG</th>\n",
       "      <th>warning_area</th>\n",
       "    </tr>\n",
       "  </thead>\n",
       "  <tbody>\n",
       "    <tr>\n",
       "      <th>0</th>\n",
       "      <td>489</td>\n",
       "      <td>116</td>\n",
       "      <td>631</td>\n",
       "      <td>3.19</td>\n",
       "      <td>0</td>\n",
       "      <td>0.5</td>\n",
       "    </tr>\n",
       "    <tr>\n",
       "      <th>1</th>\n",
       "      <td>433</td>\n",
       "      <td>78</td>\n",
       "      <td>609</td>\n",
       "      <td>3.19</td>\n",
       "      <td>0</td>\n",
       "      <td>0.5</td>\n",
       "    </tr>\n",
       "    <tr>\n",
       "      <th>2</th>\n",
       "      <td>464</td>\n",
       "      <td>154</td>\n",
       "      <td>608</td>\n",
       "      <td>3.19</td>\n",
       "      <td>0</td>\n",
       "      <td>0.5</td>\n",
       "    </tr>\n",
       "    <tr>\n",
       "      <th>3</th>\n",
       "      <td>379</td>\n",
       "      <td>212</td>\n",
       "      <td>606</td>\n",
       "      <td>3.19</td>\n",
       "      <td>0</td>\n",
       "      <td>0.5</td>\n",
       "    </tr>\n",
       "    <tr>\n",
       "      <th>4</th>\n",
       "      <td>798</td>\n",
       "      <td>1736</td>\n",
       "      <td>604</td>\n",
       "      <td>3.21</td>\n",
       "      <td>0</td>\n",
       "      <td>0.0</td>\n",
       "    </tr>\n",
       "  </tbody>\n",
       "</table>\n",
       "</div>"
      ],
      "text/plain": [
       "   MELT_TEMP  MOTORSPEED  MELT_WEIGHT  INSP  TAG  warning_area\n",
       "0        489         116          631  3.19    0           0.5\n",
       "1        433          78          609  3.19    0           0.5\n",
       "2        464         154          608  3.19    0           0.5\n",
       "3        379         212          606  3.19    0           0.5\n",
       "4        798        1736          604  3.21    0           0.0"
      ]
     },
     "execution_count": 10,
     "metadata": {},
     "output_type": "execute_result"
    }
   ],
   "source": [
    "df_added.head()"
   ]
  },
  {
   "cell_type": "markdown",
   "id": "3e44450c",
   "metadata": {},
   "source": [
    "## train, test셋 분리"
   ]
  },
  {
   "cell_type": "code",
   "execution_count": 11,
   "id": "983f21df",
   "metadata": {},
   "outputs": [],
   "source": [
    "def get_train_test(df, ratio):\n",
    "    split_date = int(df.shape[0]*ratio)\n",
    "    train = df_std[:split_date]\n",
    "    test = df_std[split_date:]\n",
    "    return train, test"
   ]
  },
  {
   "cell_type": "code",
   "execution_count": 40,
   "id": "5950ab64",
   "metadata": {},
   "outputs": [],
   "source": [
    "train, test = get_train_test(df_added, 0.5)"
   ]
  },
  {
   "cell_type": "markdown",
   "id": "f8f54ffb",
   "metadata": {},
   "source": [
    "## train셋 성능 확인_스모트 사용"
   ]
  },
  {
   "cell_type": "code",
   "execution_count": 41,
   "id": "bce0054b",
   "metadata": {},
   "outputs": [],
   "source": [
    "X = train.drop('TAG', axis='columns')\n",
    "y = train['TAG']\n",
    "\n",
    "# 데이터 표준화 작업\n",
    "sc = MinMaxScaler()\n",
    "sc.fit(X)\n",
    "\n",
    "# 표준화된 데이터셋\n",
    "X_sc = sc.transform(X)"
   ]
  },
  {
   "cell_type": "code",
   "execution_count": 42,
   "id": "b423ede8",
   "metadata": {},
   "outputs": [],
   "source": [
    "X_train, X_valid, y_train, y_valid = train_test_split(X_sc, y, test_size=0.3, random_state=0, stratify=y)"
   ]
  },
  {
   "cell_type": "code",
   "execution_count": 43,
   "id": "3f584e8f",
   "metadata": {},
   "outputs": [],
   "source": [
    "# SMOTE 객체 생성\n",
    "smote = SMOTE(random_state=0)\n",
    "\n",
    "# 샘플링\n",
    "X_train_resampled, y_train_resampled = smote.fit_resample(X_train, y_train)"
   ]
  },
  {
   "cell_type": "code",
   "execution_count": 44,
   "id": "0273f57a",
   "metadata": {},
   "outputs": [
    {
     "name": "stdout",
     "output_type": "stream",
     "text": [
      "오차 행렬\n",
      "[[59049 29896]\n",
      " [ 8065 28270]]\n",
      "정확도: 0.6970, 정밀도: 0.4860, 재현율: 0.7780, F1: 0.5983\n"
     ]
    }
   ],
   "source": [
    "log_reg = LogisticRegression()\n",
    "log_reg.fit(X_train_resampled, y_train_resampled)\n",
    "predict = log_reg.predict(X_valid)\n",
    "\n",
    "get_clf_eval(y_valid,predict)"
   ]
  },
  {
   "cell_type": "markdown",
   "id": "3b4e75b3",
   "metadata": {},
   "source": [
    "## test셋의 70%를 기존 모델로 예측"
   ]
  },
  {
   "cell_type": "code",
   "execution_count": 45,
   "id": "7f4840a1",
   "metadata": {},
   "outputs": [],
   "source": [
    "Xt = test.drop('TAG', axis='columns')\n",
    "yt = test['TAG']\n",
    "\n",
    "# 데이터 표준화 작업\n",
    "sc = MinMaxScaler()\n",
    "sc.fit(Xt)\n",
    "\n",
    "# 표준화된 데이터셋\n",
    "Xt_sc = sc.transform(Xt)"
   ]
  },
  {
   "cell_type": "code",
   "execution_count": 46,
   "id": "3770d332",
   "metadata": {},
   "outputs": [],
   "source": [
    "Xt_train, Xt_valid, yt_train, yt_valid = train_test_split(Xt_sc, yt, test_size=0.3, random_state=0,stratify=y)"
   ]
  },
  {
   "cell_type": "code",
   "execution_count": 48,
   "id": "b55059a0",
   "metadata": {},
   "outputs": [],
   "source": [
    "# 기존에 학습된 모델로 test셋 앞0.7 예측\n",
    "predicted_label = log_reg.predict(Xt_train)"
   ]
  },
  {
   "cell_type": "code",
   "execution_count": 49,
   "id": "b6ad4743",
   "metadata": {},
   "outputs": [],
   "source": [
    "# 예측된 label을 Xt_train와 합침\n",
    "predicted_np = np.c_[Xt_train,predicted_label]"
   ]
  },
  {
   "cell_type": "markdown",
   "id": "4cf2f4b0",
   "metadata": {},
   "source": [
    "## 기존 train셋과 예측된 test셋을 합침"
   ]
  },
  {
   "cell_type": "code",
   "execution_count": 50,
   "id": "5a271c63",
   "metadata": {},
   "outputs": [],
   "source": [
    "train_7_np = np.c_[X_train,y_train]\n",
    "merged_np= np.r_[train_7_np,predicted_np]"
   ]
  },
  {
   "cell_type": "markdown",
   "id": "6aa169c0",
   "metadata": {},
   "source": [
    "## 합친 데이터로 model 재학습"
   ]
  },
  {
   "cell_type": "code",
   "execution_count": 51,
   "id": "cb6a21e7",
   "metadata": {},
   "outputs": [],
   "source": [
    "Xm = merged_np[:,:-1]\n",
    "ym = merged_np[:,-1]"
   ]
  },
  {
   "cell_type": "code",
   "execution_count": 52,
   "id": "2a92d75c",
   "metadata": {},
   "outputs": [],
   "source": [
    "# SMOTE 객체 생성\n",
    "smote = SMOTE(random_state=0)\n",
    "\n",
    "# 샘플링\n",
    "Xm_train_resampled, ym_train_resampled = smote.fit_resample(Xm, ym)"
   ]
  },
  {
   "cell_type": "code",
   "execution_count": 53,
   "id": "3d949e22",
   "metadata": {},
   "outputs": [
    {
     "data": {
      "text/plain": [
       "LogisticRegression()"
      ]
     },
     "execution_count": 53,
     "metadata": {},
     "output_type": "execute_result"
    }
   ],
   "source": [
    "# 스모트 함 수도레이블링O\n",
    "improved_log_reg = LogisticRegression()\n",
    "improved_log_reg.fit(Xm_train_resampled, ym_train_resampled)"
   ]
  },
  {
   "cell_type": "markdown",
   "id": "238ea0a6",
   "metadata": {},
   "source": [
    "### test셋 valid를 기존 모델과 재학습한 모델 결과 비교"
   ]
  },
  {
   "cell_type": "code",
   "execution_count": 54,
   "id": "948000f3",
   "metadata": {},
   "outputs": [
    {
     "name": "stdout",
     "output_type": "stream",
     "text": [
      "오차 행렬\n",
      "[[64037 44538]\n",
      " [  452 16253]]\n",
      "정확도: 0.6409, 정밀도: 0.2674, 재현율: 0.9729, F1: 0.4195\n"
     ]
    }
   ],
   "source": [
    "#기존 모델\n",
    "predict = log_reg.predict(Xt_valid)\n",
    "get_clf_eval(yt_valid,predict)"
   ]
  },
  {
   "cell_type": "code",
   "execution_count": 55,
   "id": "6cb16446",
   "metadata": {},
   "outputs": [
    {
     "name": "stdout",
     "output_type": "stream",
     "text": [
      "오차 행렬\n",
      "[[67734 40841]\n",
      " [ 1725 14980]]\n",
      "정확도: 0.6602, 정밀도: 0.2684, 재현율: 0.8967, F1: 0.4131\n"
     ]
    }
   ],
   "source": [
    "#재학습 모델\n",
    "predict = improved_log_reg.predict(Xt_valid)\n",
    "get_clf_eval(yt_valid,predict)"
   ]
  },
  {
   "cell_type": "markdown",
   "id": "979c8f7b",
   "metadata": {},
   "source": [
    "### train셋 valid를 기존 모델과 재학습한 모델 결과 비교"
   ]
  },
  {
   "cell_type": "code",
   "execution_count": 56,
   "id": "52ea6c60",
   "metadata": {},
   "outputs": [
    {
     "name": "stdout",
     "output_type": "stream",
     "text": [
      "오차 행렬\n",
      "[[59049 29896]\n",
      " [ 8065 28270]]\n",
      "정확도: 0.6970, 정밀도: 0.4860, 재현율: 0.7780, F1: 0.5983\n"
     ]
    }
   ],
   "source": [
    "#기존 모델\n",
    "predict = log_reg.predict(X_valid)\n",
    "get_clf_eval(y_valid,predict)"
   ]
  },
  {
   "cell_type": "code",
   "execution_count": 57,
   "id": "61586a93",
   "metadata": {},
   "outputs": [
    {
     "name": "stdout",
     "output_type": "stream",
     "text": [
      "오차 행렬\n",
      "[[61737 27208]\n",
      " [ 9707 26628]]\n",
      "정확도: 0.7053, 정밀도: 0.4946, 재현율: 0.7328, F1: 0.5906\n"
     ]
    }
   ],
   "source": [
    "#재학습 모델\n",
    "predict = improved_log_reg.predict(X_valid)\n",
    "get_clf_eval(y_valid,predict)"
   ]
  },
  {
   "cell_type": "markdown",
   "id": "b9a1233a",
   "metadata": {},
   "source": [
    "## 로지스틱 확률 조정해서 결과 보기"
   ]
  },
  {
   "cell_type": "code",
   "execution_count": 58,
   "id": "24ee9987",
   "metadata": {},
   "outputs": [],
   "source": [
    "def cut_off(prd_proba, threshold) :\n",
    "    res = prd_proba.copy()  # 대문자 Y를 새로운 변수로 하여 기존의 y값에 영향이 가지 않도록 한다.\n",
    "    res = np.delete(res, 0, 1)\n",
    "    res[res>=threshold] = 1\n",
    "    res[res<threshold] = 0\n",
    "    return res.reshape(1,len(res))[0]\n",
    "\n",
    "def get_result_by_cf(model, threshold, x_val, y_val):\n",
    "    predict_prb = model.predict_proba(Xt_train)\n",
    "    cut_off_predict = cut_off(predict_prb,threshold)\n",
    "    cf_predicted_np= np.c_[Xt_train, cut_off_predict]\n",
    "    merged_cf_np = np.r_[train_7_np,cf_predicted_np]\n",
    "    \n",
    "    X = merged_cf_np[:,:-1]\n",
    "    y = merged_cf_np[:,-1]\n",
    "    \n",
    "    # SMOTE 객체 생성\n",
    "    smote = SMOTE(random_state=0)\n",
    "\n",
    "    # 샘플링\n",
    "    X_train_over, y_train_over = smote.fit_resample(X, y)\n",
    "    \n",
    "    cf_log_reg = LogisticRegression()\n",
    "    cf_log_reg.fit(X_train_over, y_train_over)\n",
    "\n",
    "    predict = cf_log_reg.predict(x_val)\n",
    "    get_clf_eval(y_val,predict)"
   ]
  },
  {
   "cell_type": "markdown",
   "id": "b97628b2",
   "metadata": {},
   "source": [
    "### test셋 valid- 확률에 따른 성능 확인"
   ]
  },
  {
   "cell_type": "code",
   "execution_count": 60,
   "id": "c0d6c5d1",
   "metadata": {},
   "outputs": [
    {
     "name": "stdout",
     "output_type": "stream",
     "text": [
      "오차 행렬\n",
      "[[67734 40841]\n",
      " [ 1725 14980]]\n",
      "정확도: 0.6602, 정밀도: 0.2684, 재현율: 0.8967, F1: 0.4131\n"
     ]
    }
   ],
   "source": [
    "get_result_by_cf(log_reg, 0.5, Xt_valid, yt_valid)"
   ]
  },
  {
   "cell_type": "code",
   "execution_count": 63,
   "id": "aeacc515",
   "metadata": {},
   "outputs": [
    {
     "name": "stdout",
     "output_type": "stream",
     "text": [
      "오차 행렬\n",
      "[[64506 44069]\n",
      " [  708 15997]]\n",
      "정확도: 0.6426, 정밀도: 0.2663, 재현율: 0.9576, F1: 0.4167\n"
     ]
    }
   ],
   "source": [
    "get_result_by_cf(log_reg, 0.45, Xt_valid, yt_valid)"
   ]
  },
  {
   "cell_type": "code",
   "execution_count": 62,
   "id": "8989a9d6",
   "metadata": {},
   "outputs": [
    {
     "name": "stdout",
     "output_type": "stream",
     "text": [
      "오차 행렬\n",
      "[[57460 51115]\n",
      " [   50 16655]]\n",
      "정확도: 0.5916, 정밀도: 0.2458, 재현율: 0.9970, F1: 0.3943\n"
     ]
    }
   ],
   "source": [
    "get_result_by_cf(log_reg, 0.40, Xt_valid, yt_valid)"
   ]
  },
  {
   "cell_type": "markdown",
   "id": "3937b94a",
   "metadata": {},
   "source": [
    "### train셋 valid- 확률에 따른 성능 확인"
   ]
  },
  {
   "cell_type": "code",
   "execution_count": 65,
   "id": "4e27eeca",
   "metadata": {},
   "outputs": [
    {
     "name": "stdout",
     "output_type": "stream",
     "text": [
      "오차 행렬\n",
      "[[61737 27208]\n",
      " [ 9707 26628]]\n",
      "정확도: 0.7053, 정밀도: 0.4946, 재현율: 0.7328, F1: 0.5906\n"
     ]
    }
   ],
   "source": [
    "get_result_by_cf(log_reg, 0.5, X_valid, y_valid)"
   ]
  },
  {
   "cell_type": "code",
   "execution_count": 67,
   "id": "afe7d374",
   "metadata": {},
   "outputs": [
    {
     "name": "stdout",
     "output_type": "stream",
     "text": [
      "오차 행렬\n",
      "[[59239 29706]\n",
      " [ 8352 27983]]\n",
      "정확도: 0.6962, 정밀도: 0.4851, 재현율: 0.7701, F1: 0.5952\n"
     ]
    }
   ],
   "source": [
    "get_result_by_cf(log_reg, 0.45, X_valid, y_valid)"
   ]
  },
  {
   "cell_type": "code",
   "execution_count": 66,
   "id": "5d254190",
   "metadata": {},
   "outputs": [
    {
     "name": "stdout",
     "output_type": "stream",
     "text": [
      "오차 행렬\n",
      "[[53779 35166]\n",
      " [ 6465 29870]]\n",
      "정확도: 0.6677, 정밀도: 0.4593, 재현율: 0.8221, F1: 0.5893\n"
     ]
    }
   ],
   "source": [
    "get_result_by_cf(log_reg, 0.4, X_valid, y_valid)"
   ]
  },
  {
   "cell_type": "code",
   "execution_count": null,
   "id": "68b592e5",
   "metadata": {},
   "outputs": [],
   "source": []
  }
 ],
 "metadata": {
  "kernelspec": {
   "display_name": "Python 3 (ipykernel)",
   "language": "python",
   "name": "python3"
  },
  "language_info": {
   "codemirror_mode": {
    "name": "ipython",
    "version": 3
   },
   "file_extension": ".py",
   "mimetype": "text/x-python",
   "name": "python",
   "nbconvert_exporter": "python",
   "pygments_lexer": "ipython3",
   "version": "3.7.13"
  }
 },
 "nbformat": 4,
 "nbformat_minor": 5
}
